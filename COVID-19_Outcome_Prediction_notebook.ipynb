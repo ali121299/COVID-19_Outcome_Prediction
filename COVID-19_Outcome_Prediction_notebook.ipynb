{
 "cells": [
  {
   "cell_type": "markdown",
   "id": "3d00e268",
   "metadata": {},
   "source": [
    "# Ali Ahmed Hassan 1808627\n",
    "# Amr Fawzy Fathy 1803149"
   ]
  },
  {
   "cell_type": "code",
   "execution_count": 1,
   "id": "79a2f802",
   "metadata": {},
   "outputs": [],
   "source": [
    "from sklearn.linear_model import LinearRegression\n",
    "from sklearn.preprocessing import PolynomialFeatures\n",
    "from sklearn.model_selection import train_test_split\n",
    "import numpy as np\n",
    "import pandas as pd\n",
    "import matplotlib.pyplot as plt\n",
    "import random\n",
    "from sklearn.metrics import classification_report,confusion_matrix \n",
    "from sklearn.metrics import roc_curve\n",
    "from sklearn.metrics import auc"
   ]
  },
  {
   "cell_type": "markdown",
   "id": "426a8288",
   "metadata": {},
   "source": [
    "# STEP 1: LOADING THE DATASET AND VISUALISING IT"
   ]
  },
  {
   "cell_type": "code",
   "execution_count": 2,
   "id": "57410c40",
   "metadata": {},
   "outputs": [
    {
     "name": "stdout",
     "output_type": "stream",
     "text": [
      "863\n"
     ]
    }
   ],
   "source": [
    "data_set = pd.read_csv(\"data.csv\")\n",
    "data_set_size = len(data_set)\n",
    "print(data_set_size )"
   ]
  },
  {
   "cell_type": "code",
   "execution_count": 35,
   "id": "10a714e2",
   "metadata": {},
   "outputs": [
    {
     "name": "stdout",
     "output_type": "stream",
     "text": [
      "     Unnamed: 0  location  country  gender   age  vis_wuhan  from_wuhan  \\\n",
      "0             0       104        8       1  66.0          1           0   \n",
      "1             1       101        8       0  56.0          0           1   \n",
      "2             2       137        8       1  46.0          0           1   \n",
      "3             3       116        8       0  60.0          1           0   \n",
      "4             4       116        8       1  58.0          0           0   \n",
      "..          ...       ...      ...     ...   ...        ...         ...   \n",
      "858         858        48        3       2  24.0          0           0   \n",
      "859         859         0        0       2  35.0          0           0   \n",
      "860         860         3        1       1  49.4          0           0   \n",
      "861         861        24        9       1  49.4          0           0   \n",
      "862         862        15       27       1  70.0          0           0   \n",
      "\n",
      "     symptom1  symptom2  symptom3  symptom4  symptom5  symptom6  diff_sym_hos  \\\n",
      "0          14        31        19        12         3         1             8   \n",
      "1          14        31        19        12         3         1             0   \n",
      "2          14        31        19        12         3         1            13   \n",
      "3          14        31        19        12         3         1             0   \n",
      "4          14        31        19        12         3         1             0   \n",
      "..        ...       ...       ...       ...       ...       ...           ...   \n",
      "858        14        31        19        12         3         1             0   \n",
      "859        14        31        19        12         3         1             0   \n",
      "860        14        31        19        12         3         1             0   \n",
      "861        14        31        19        12         3         1             0   \n",
      "862        14        31        19        12         3         1             0   \n",
      "\n",
      "     result  \n",
      "0         1  \n",
      "1         0  \n",
      "2         0  \n",
      "3         0  \n",
      "4         0  \n",
      "..      ...  \n",
      "858       1  \n",
      "859       0  \n",
      "860       0  \n",
      "861       0  \n",
      "862       0  \n",
      "\n",
      "[863 rows x 15 columns]\n",
      "***********************************************************\n",
      "     Unnamed: 0  location  country  gender   age  vis_wuhan  from_wuhan  \\\n",
      "599         599        12       12       2  49.4          0           0   \n",
      "56           56        41        8       1  49.0          1           0   \n",
      "484         484       110       28       0  55.0          1           0   \n",
      "84           84       116        8       0  29.0          1           0   \n",
      "594         594       118        7       0  25.0          1           0   \n",
      "..          ...       ...      ...     ...   ...        ...         ...   \n",
      "715         715        45       13       1  51.0          0           0   \n",
      "767         767       122       31       2  49.4          0           0   \n",
      "72           72       135        8       0  39.0          1           0   \n",
      "235         235       128       18       0  85.0          0           0   \n",
      "37           37        13        8       0  33.0          0           1   \n",
      "\n",
      "     symptom1  symptom2  symptom3  symptom4  symptom5  symptom6  diff_sym_hos  \\\n",
      "599        14        31        19        12         3         1             0   \n",
      "56         14        31        19        12         3         1             0   \n",
      "484         6        31        19        12         3         1             0   \n",
      "84         14        31        19        12         3         1             0   \n",
      "594        14        31        19        12         3         1             0   \n",
      "..        ...       ...       ...       ...       ...       ...           ...   \n",
      "715         6        31        19        12         3         1             7   \n",
      "767        14        31        19        12         3         1             0   \n",
      "72         14        31        19        12         3         1             0   \n",
      "235        14        31        19        12         3         1             0   \n",
      "37         14        31        19        12         3         1             0   \n",
      "\n",
      "     result  \n",
      "599       0  \n",
      "56        0  \n",
      "484       0  \n",
      "84        0  \n",
      "594       0  \n",
      "..      ...  \n",
      "715       0  \n",
      "767       0  \n",
      "72        0  \n",
      "235       1  \n",
      "37        0  \n",
      "\n",
      "[863 rows x 15 columns]\n"
     ]
    }
   ],
   "source": [
    "print(data_set)\n",
    "ds=data_set.sample(frac=1,random_state=1)\n",
    "print(\"***********************************************************\")\n",
    "print(ds)\n"
   ]
  },
  {
   "cell_type": "markdown",
   "id": "2c0a5d41",
   "metadata": {},
   "source": [
    "# 2-Split The Dataset Into X and Y"
   ]
  },
  {
   "cell_type": "code",
   "execution_count": 4,
   "id": "6a18f55b",
   "metadata": {},
   "outputs": [],
   "source": [
    "x=ds[['location','country','gender','age','vis_wuhan','from_wuhan','symptom1','symptom2','symptom3','symptom4','symptom5','symptom6','diff_sym_hos']]\n",
    "y=ds['result']\n"
   ]
  },
  {
   "cell_type": "markdown",
   "id": "f5ff8e19",
   "metadata": {},
   "source": [
    "# 3-split the data to 20% validation-70% training-10% test"
   ]
  },
  {
   "cell_type": "code",
   "execution_count": 5,
   "id": "ba165d54",
   "metadata": {},
   "outputs": [],
   "source": [
    "xVal=x[:172]\n",
    "yVal=y[:172]\n",
    "X=x[172:]\n",
    "Y=y[172:]"
   ]
  },
  {
   "cell_type": "code",
   "execution_count": 6,
   "id": "353a337e",
   "metadata": {},
   "outputs": [],
   "source": [
    "xTrain,xTest,yTrain,yTest=train_test_split(X,Y,test_size=0.13)"
   ]
  },
  {
   "cell_type": "code",
   "execution_count": 7,
   "id": "0d98ba41",
   "metadata": {},
   "outputs": [
    {
     "name": "stdout",
     "output_type": "stream",
     "text": [
      "69.64078794901506\n",
      "10.428736964078796\n",
      "19.930475086906142\n"
     ]
    }
   ],
   "source": [
    "print ((len(xTrain)/len(ds)*100))\n",
    "print ((len(xTest)/len(ds)*100))\n",
    "print ((len(xVal)/len(ds)*100))"
   ]
  },
  {
   "cell_type": "code",
   "execution_count": 8,
   "id": "9dc694f6",
   "metadata": {},
   "outputs": [],
   "source": [
    "from sklearn.preprocessing import StandardScaler \n",
    "scaler=StandardScaler()\n",
    "scaler.fit(xTrain)\n",
    "xTrain=scaler.transform(xTrain)\n",
    "xTest=scaler.transform(xTest)\n",
    "xVal=scaler.transform(xVal)"
   ]
  },
  {
   "cell_type": "code",
   "execution_count": 9,
   "id": "68b33755",
   "metadata": {},
   "outputs": [
    {
     "name": "stdout",
     "output_type": "stream",
     "text": [
      "reslults for k= 3\n",
      "              precision    recall  f1-score   support\n",
      "\n",
      "           0       0.94      0.99      0.96       152\n",
      "           1       0.83      0.50      0.62        20\n",
      "\n",
      "    accuracy                           0.93       172\n",
      "   macro avg       0.89      0.74      0.79       172\n",
      "weighted avg       0.93      0.93      0.92       172\n",
      "\n",
      "[[150   2]\n",
      " [ 10  10]]\n",
      "reslults for k= 5\n",
      "              precision    recall  f1-score   support\n",
      "\n",
      "           0       0.95      0.99      0.97       152\n",
      "           1       0.86      0.60      0.71        20\n",
      "\n",
      "    accuracy                           0.94       172\n",
      "   macro avg       0.90      0.79      0.84       172\n",
      "weighted avg       0.94      0.94      0.94       172\n",
      "\n",
      "[[150   2]\n",
      " [  8  12]]\n",
      "reslults for k= 7\n",
      "              precision    recall  f1-score   support\n",
      "\n",
      "           0       0.95      0.99      0.97       152\n",
      "           1       0.92      0.60      0.73        20\n",
      "\n",
      "    accuracy                           0.95       172\n",
      "   macro avg       0.94      0.80      0.85       172\n",
      "weighted avg       0.95      0.95      0.94       172\n",
      "\n",
      "[[151   1]\n",
      " [  8  12]]\n",
      "reslults for k= 9\n",
      "              precision    recall  f1-score   support\n",
      "\n",
      "           0       0.94      1.00      0.97       152\n",
      "           1       1.00      0.50      0.67        20\n",
      "\n",
      "    accuracy                           0.94       172\n",
      "   macro avg       0.97      0.75      0.82       172\n",
      "weighted avg       0.95      0.94      0.93       172\n",
      "\n",
      "[[152   0]\n",
      " [ 10  10]]\n"
     ]
    }
   ],
   "source": [
    "from sklearn.neighbors import KNeighborsClassifier\n",
    "\n",
    "for i in range(3,10,2):\n",
    "    classifier=KNeighborsClassifier(n_neighbors=i)\n",
    "    classifier.fit(xTrain,yTrain)\n",
    "    yPred=classifier.predict(xVal)\n",
    "    print (\"reslults for k=\",i)\n",
    "    print (classification_report(yVal,yPred))\n",
    "    print (confusion_matrix (yVal,yPred))\n",
    "    \n"
   ]
  },
  {
   "cell_type": "code",
   "execution_count": 10,
   "id": "de725cb9",
   "metadata": {},
   "outputs": [],
   "source": [
    "#we can see that recall in k=5 is better than recall in k=3,7,9 and the recall is what we care about most in our decision\n",
    "#so we take k=5\n"
   ]
  },
  {
   "cell_type": "markdown",
   "id": "2f878707",
   "metadata": {},
   "source": [
    "### now we apply the knn classifier with k=5 on the test set and see the results\n"
   ]
  },
  {
   "cell_type": "code",
   "execution_count": 11,
   "id": "ab8e882d",
   "metadata": {},
   "outputs": [
    {
     "name": "stdout",
     "output_type": "stream",
     "text": [
      "              precision    recall  f1-score   support\n",
      "\n",
      "           0       0.94      1.00      0.97        78\n",
      "           1       1.00      0.58      0.74        12\n",
      "\n",
      "    accuracy                           0.94        90\n",
      "   macro avg       0.97      0.79      0.85        90\n",
      "weighted avg       0.95      0.94      0.94        90\n",
      "\n",
      "[[78  0]\n",
      " [ 5  7]]\n"
     ]
    }
   ],
   "source": [
    "knn=KNeighborsClassifier(n_neighbors=5)\n",
    "knn.fit(xTrain,yTrain)\n",
    "y_Pred=classifier.predict(xTest)\n",
    "print (classification_report(yTest,y_Pred))\n",
    "print (confusion_matrix (yTest,y_Pred))"
   ]
  },
  {
   "cell_type": "markdown",
   "id": "d0836239",
   "metadata": {},
   "source": [
    "# classifier 2 : Logistic Regression"
   ]
  },
  {
   "cell_type": "code",
   "execution_count": 12,
   "id": "6fa95c1a",
   "metadata": {},
   "outputs": [],
   "source": [
    "from sklearn.linear_model import LogisticRegression"
   ]
  },
  {
   "cell_type": "markdown",
   "id": "d36e9969",
   "metadata": {},
   "source": [
    "## split the data to 70% training-30% test"
   ]
  },
  {
   "cell_type": "code",
   "execution_count": 8,
   "id": "21b341f5",
   "metadata": {},
   "outputs": [],
   "source": [
    "x_Train,x_Test,y_Train,y_Test=train_test_split(x,y,test_size=0.3)\n",
    "#print ((len(x_Train)/len(x))*100,'%')\n"
   ]
  },
  {
   "cell_type": "code",
   "execution_count": 14,
   "id": "981535b2",
   "metadata": {},
   "outputs": [
    {
     "data": {
      "text/plain": [
       "LogisticRegression(max_iter=7000)"
      ]
     },
     "execution_count": 14,
     "metadata": {},
     "output_type": "execute_result"
    }
   ],
   "source": [
    "log_reg = LogisticRegression(max_iter=7000)\n",
    "log_reg.fit(x_Train, y_Train)"
   ]
  },
  {
   "cell_type": "code",
   "execution_count": 15,
   "id": "049365f5",
   "metadata": {},
   "outputs": [],
   "source": [
    "yPred = log_reg.predict(x_Test)"
   ]
  },
  {
   "cell_type": "code",
   "execution_count": 16,
   "id": "f6ae3a78",
   "metadata": {},
   "outputs": [
    {
     "name": "stdout",
     "output_type": "stream",
     "text": [
      "              precision    recall  f1-score   support\n",
      "\n",
      "           0       0.96      0.98      0.97       228\n",
      "           1       0.81      0.68      0.74        31\n",
      "\n",
      "    accuracy                           0.94       259\n",
      "   macro avg       0.88      0.83      0.85       259\n",
      "weighted avg       0.94      0.94      0.94       259\n",
      "\n",
      "[[223   5]\n",
      " [ 10  21]]\n"
     ]
    }
   ],
   "source": [
    "    print (classification_report(y_Test,yPred))\n",
    "    print (confusion_matrix (y_Test,yPred))"
   ]
  },
  {
   "cell_type": "markdown",
   "id": "1bdb77cc",
   "metadata": {},
   "source": [
    "# classifier 3 : Naive Bayes"
   ]
  },
  {
   "cell_type": "code",
   "execution_count": 17,
   "id": "c3f37314",
   "metadata": {},
   "outputs": [
    {
     "data": {
      "text/plain": [
       "GaussianNB()"
      ]
     },
     "execution_count": 17,
     "metadata": {},
     "output_type": "execute_result"
    }
   ],
   "source": [
    "from sklearn.naive_bayes import GaussianNB\n",
    "model = GaussianNB()\n",
    "model.fit(x_Train,y_Train)\n"
   ]
  },
  {
   "cell_type": "code",
   "execution_count": 18,
   "id": "e2b853d2",
   "metadata": {},
   "outputs": [],
   "source": [
    "ypredict=model.predict(x_Test)"
   ]
  },
  {
   "cell_type": "code",
   "execution_count": 27,
   "id": "8934be0a",
   "metadata": {},
   "outputs": [],
   "source": [
    "y_pres=model.predict_proba(x_Test)"
   ]
  },
  {
   "cell_type": "code",
   "execution_count": 20,
   "id": "3bef8004",
   "metadata": {},
   "outputs": [
    {
     "name": "stdout",
     "output_type": "stream",
     "text": [
      "              precision    recall  f1-score   support\n",
      "\n",
      "           0       0.98      0.69      0.81       228\n",
      "           1       0.28      0.90      0.43        31\n",
      "\n",
      "    accuracy                           0.71       259\n",
      "   macro avg       0.63      0.80      0.62       259\n",
      "weighted avg       0.90      0.71      0.76       259\n",
      "\n",
      "[[157  71]\n",
      " [  3  28]]\n"
     ]
    }
   ],
   "source": [
    "    print (classification_report(y_Test,ypredict))\n",
    "    print (confusion_matrix (y_Test,ypredict))"
   ]
  },
  {
   "cell_type": "markdown",
   "id": "494b0171",
   "metadata": {},
   "source": [
    "# plotting roc curves"
   ]
  },
  {
   "cell_type": "code",
   "execution_count": 21,
   "id": "653829d5",
   "metadata": {},
   "outputs": [
    {
     "name": "stdout",
     "output_type": "stream",
     "text": [
      "0.7916666666666667\n"
     ]
    }
   ],
   "source": [
    "#for KNN\n",
    "\n",
    "fpr, tpr, threshold = roc_curve(yTest,y_Pred)\n",
    "roc_auc_KNN = auc(fpr, tpr)\n",
    "print(roc_auc_KNN)"
   ]
  },
  {
   "cell_type": "code",
   "execution_count": 22,
   "id": "d97a1595",
   "metadata": {},
   "outputs": [
    {
     "data": {
      "image/png": "[encoded data removed]",
      "text/plain": [
       "<Figure size 432x288 with 1 Axes>"
      ]
     },
     "metadata": {
      "needs_background": "light"
     },
     "output_type": "display_data"
    }
   ],
   "source": [
    "plt.title('Receiver Operating Characteristic')\n",
    "plt.plot(fpr, tpr, 'b', label = 'AUC = %0.2f' % roc_auc_KNN)\n",
    "plt.legend(loc = 'lower right')\n",
    "plt.plot([0, 1], [0, 1],'r--')\n",
    "plt.xlim([0, 1])\n",
    "plt.ylim([0, 1])\n",
    "plt.ylabel('True Positive Rate')\n",
    "plt.xlabel('False Positive Rate')\n",
    "plt.title('ROC Curve of kNN')\n",
    "plt.show()"
   ]
  },
  {
   "cell_type": "code",
   "execution_count": 29,
   "id": "04d5824f",
   "metadata": {},
   "outputs": [
    {
     "name": "stdout",
     "output_type": "stream",
     "text": [
      "0.827744765138653\n"
     ]
    }
   ],
   "source": [
    "#ROC curve for Logistic Regression\n",
    "fpr, tpr, threshold = roc_curve(y_Test,yPred)\n",
    "roc_auc_logestic = auc(fpr, tpr)\n",
    "print(roc_auc_logestic)"
   ]
  },
  {
   "cell_type": "code",
   "execution_count": 30,
   "id": "4cca26cf",
   "metadata": {},
   "outputs": [
    {
     "data": {
      "image/png": "[encoded data removed]",
      "text/plain": [
       "<Figure size 432x288 with 1 Axes>"
      ]
     },
     "metadata": {
      "needs_background": "light"
     },
     "output_type": "display_data"
    }
   ],
   "source": [
    "plt.title('Receiver Operating Characteristic')\n",
    "plt.plot(fpr, tpr, 'b', label = 'AUC = %0.2f' % roc_auc_logestic)\n",
    "plt.legend(loc = 'lower right')\n",
    "plt.plot([0, 1], [0, 1],'r--')\n",
    "plt.xlim([0, 1])\n",
    "plt.ylim([0, 1])\n",
    "plt.ylabel('True Positive Rate')\n",
    "plt.xlabel('False Positive Rate')\n",
    "plt.title('ROC Curve of Logestic Regression')\n",
    "plt.show()"
   ]
  },
  {
   "cell_type": "code",
   "execution_count": 25,
   "id": "f69ac01b",
   "metadata": {},
   "outputs": [
    {
     "name": "stdout",
     "output_type": "stream",
     "text": [
      "0.7959111488398416\n"
     ]
    }
   ],
   "source": [
    "#ROC curve for naive bayes\n",
    "fpr, tpr, threshold = roc_curve(y_Test,ypredict)\n",
    "roc_auc_naive = auc(fpr, tpr)\n",
    "print(roc_auc_naive)"
   ]
  },
  {
   "cell_type": "code",
   "execution_count": 26,
   "id": "239375d9",
   "metadata": {},
   "outputs": [
    {
     "data": {
      "image/png": "[encoded data removed]",
      "text/plain": [
       "<Figure size 432x288 with 1 Axes>"
      ]
     },
     "metadata": {
      "needs_background": "light"
     },
     "output_type": "display_data"
    }
   ],
   "source": [
    "plt.title('Receiver Operating Characteristic')\n",
    "plt.plot(fpr, tpr, 'b', label = 'AUC = %0.2f' % roc_auc_naive)\n",
    "plt.legend(loc = 'lower right')\n",
    "plt.plot([0, 1], [0, 1],'r--')\n",
    "plt.xlim([0, 1])\n",
    "plt.ylim([0, 1])\n",
    "plt.ylabel('True Positive Rate')\n",
    "plt.xlabel('False Positive Rate')\n",
    "plt.title('ROC Curve of Naive Bayes')\n",
    "plt.show()"
   ]
  },
  {
   "cell_type": "markdown",
   "id": "7bdb7e48",
   "metadata": {},
   "source": [
    "# From comparing AUC and F1 scores and confusion matrices in 3 classifiers the Logestic resgression is the best"
   ]
  },
  {
   "cell_type": "markdown",
   "id": "02fe6952",
   "metadata": {},
   "source": [
    "# phase 2"
   ]
  },
  {
   "cell_type": "markdown",
   "id": "c4d4e705",
   "metadata": {},
   "source": [
    "## classifier 4 : Decision Tree"
   ]
  },
  {
   "cell_type": "markdown",
   "id": "03b054b1",
   "metadata": {},
   "source": [
    "we will train 2 models first one with criterion=\"entropy\"and second with criterion=\"gini-index\" and test the two models on validation set and the better results its model will be tested on the test set"
   ]
  },
  {
   "cell_type": "code",
   "execution_count": 60,
   "id": "e14c3c3e",
   "metadata": {},
   "outputs": [
    {
     "data": {
      "text/plain": [
       "DecisionTreeClassifier(criterion='entropy', random_state=5)"
      ]
     },
     "execution_count": 60,
     "metadata": {},
     "output_type": "execute_result"
    }
   ],
   "source": [
    "#model 1 with criterion=\"entropy\" \n",
    "from sklearn.tree import DecisionTreeClassifier\n",
    "model=DecisionTreeClassifier(criterion=\"entropy\",random_state=5)\n",
    "model.fit(xTrain,yTrain)"
   ]
  },
  {
   "cell_type": "code",
   "execution_count": 61,
   "id": "eff4e877",
   "metadata": {},
   "outputs": [],
   "source": [
    "YPREDICT=model.predict(xVal)"
   ]
  },
  {
   "cell_type": "code",
   "execution_count": 62,
   "id": "5f06fdb1",
   "metadata": {},
   "outputs": [
    {
     "name": "stdout",
     "output_type": "stream",
     "text": [
      "the predicted accuracy is  0.9651162790697675\n"
     ]
    }
   ],
   "source": [
    "from sklearn.metrics import accuracy_score\n",
    "print(\"the predicted accuracy is \", accuracy_score(yVal,YPREDICT))"
   ]
  },
  {
   "cell_type": "code",
   "execution_count": 63,
   "id": "80f03eb0",
   "metadata": {},
   "outputs": [
    {
     "name": "stdout",
     "output_type": "stream",
     "text": [
      "[[152   0]\n",
      " [  6  14]]\n"
     ]
    }
   ],
   "source": [
    "print (confusion_matrix (yVal,YPREDICT))"
   ]
  },
  {
   "cell_type": "code",
   "execution_count": 64,
   "id": "e80ccb6c",
   "metadata": {},
   "outputs": [
    {
     "name": "stdout",
     "output_type": "stream",
     "text": [
      "              precision    recall  f1-score   support\n",
      "\n",
      "           0       0.96      1.00      0.98       152\n",
      "           1       1.00      0.70      0.82        20\n",
      "\n",
      "    accuracy                           0.97       172\n",
      "   macro avg       0.98      0.85      0.90       172\n",
      "weighted avg       0.97      0.97      0.96       172\n",
      "\n"
     ]
    }
   ],
   "source": [
    "print (classification_report(yVal,YPREDICT))"
   ]
  },
  {
   "cell_type": "code",
   "execution_count": 65,
   "id": "7028d690",
   "metadata": {},
   "outputs": [
    {
     "data": {
      "text/plain": [
       "DecisionTreeClassifier(random_state=1000)"
      ]
     },
     "execution_count": 65,
     "metadata": {},
     "output_type": "execute_result"
    }
   ],
   "source": [
    "#model 2 with criterion=\"gini\"\n",
    "model_gini=DecisionTreeClassifier(criterion=\"gini\",random_state=1000)\n",
    "model_gini.fit(xTrain,yTrain)"
   ]
  },
  {
   "cell_type": "code",
   "execution_count": 66,
   "id": "cb20bf85",
   "metadata": {},
   "outputs": [],
   "source": [
    "Y_PREDICT=model_gini.predict(xVal)"
   ]
  },
  {
   "cell_type": "code",
   "execution_count": 67,
   "id": "f3129f5a",
   "metadata": {},
   "outputs": [
    {
     "name": "stdout",
     "output_type": "stream",
     "text": [
      "the predicted accuracy is  0.9709302325581395\n"
     ]
    }
   ],
   "source": [
    "print(\"the predicted accuracy is \", accuracy_score(yVal,Y_PREDICT))"
   ]
  },
  {
   "cell_type": "code",
   "execution_count": 68,
   "id": "9bc4f678",
   "metadata": {},
   "outputs": [
    {
     "name": "stdout",
     "output_type": "stream",
     "text": [
      "[[150   2]\n",
      " [  3  17]]\n"
     ]
    }
   ],
   "source": [
    "print (confusion_matrix (yVal,Y_PREDICT))"
   ]
  },
  {
   "cell_type": "code",
   "execution_count": 69,
   "id": "7dbf9829",
   "metadata": {},
   "outputs": [
    {
     "name": "stdout",
     "output_type": "stream",
     "text": [
      "              precision    recall  f1-score   support\n",
      "\n",
      "           0       0.98      0.99      0.98       152\n",
      "           1       0.89      0.85      0.87        20\n",
      "\n",
      "    accuracy                           0.97       172\n",
      "   macro avg       0.94      0.92      0.93       172\n",
      "weighted avg       0.97      0.97      0.97       172\n",
      "\n"
     ]
    }
   ],
   "source": [
    "print (classification_report(yVal,Y_PREDICT))"
   ]
  },
  {
   "cell_type": "code",
   "execution_count": 75,
   "id": "c496b42a",
   "metadata": {},
   "outputs": [],
   "source": [
    "# the accuracy is better in ginimodel\n",
    "y_predict=model_gini.predict(xTest)\n"
   ]
  },
  {
   "cell_type": "code",
   "execution_count": 76,
   "id": "ff52af5b",
   "metadata": {},
   "outputs": [],
   "source": [
    "#visualizing decision tree\n",
    "import sklearn\n",
    "#sklearn.tree.plot_tree(model)"
   ]
  },
  {
   "cell_type": "code",
   "execution_count": 77,
   "id": "de86f29c",
   "metadata": {},
   "outputs": [
    {
     "name": "stdout",
     "output_type": "stream",
     "text": [
      "the predicted accuracy is  0.9555555555555556\n",
      "[[74  3]\n",
      " [ 1 12]]\n",
      "              precision    recall  f1-score   support\n",
      "\n",
      "           0       0.99      0.96      0.97        77\n",
      "           1       0.80      0.92      0.86        13\n",
      "\n",
      "    accuracy                           0.96        90\n",
      "   macro avg       0.89      0.94      0.92        90\n",
      "weighted avg       0.96      0.96      0.96        90\n",
      "\n"
     ]
    }
   ],
   "source": [
    "print(\"the predicted accuracy is \", accuracy_score(yTest,y_predict))\n",
    "print (confusion_matrix (yTest,y_predict))\n",
    "print (classification_report(yTest,y_predict))\n"
   ]
  },
  {
   "cell_type": "code",
   "execution_count": 78,
   "id": "471b78a4",
   "metadata": {},
   "outputs": [
    {
     "name": "stdout",
     "output_type": "stream",
     "text": [
      "0.942057942057942\n"
     ]
    }
   ],
   "source": [
    "# roc curve and auc score for decision tree :\n",
    "fpr, tpr, threshold = roc_curve(yTest,y_predict)\n",
    "roc_auc_tree = auc(fpr, tpr)\n",
    "print(roc_auc_tree)"
   ]
  },
  {
   "cell_type": "code",
   "execution_count": 79,
   "id": "1ce3b29c",
   "metadata": {},
   "outputs": [
    {
     "data": {
      "image/png": "[encoded data removed]",
      "text/plain": [
       "<Figure size 432x288 with 1 Axes>"
      ]
     },
     "metadata": {
      "needs_background": "light"
     },
     "output_type": "display_data"
    }
   ],
   "source": [
    "plt.title('Receiver Operating Characteristic')\n",
    "plt.plot(fpr, tpr, 'b', label = 'AUC = %0.2f' % roc_auc_tree)\n",
    "plt.legend(loc = 'lower right')\n",
    "plt.plot([0, 1], [0, 1],'r--')\n",
    "plt.xlim([0, 1])\n",
    "plt.ylim([0, 1])\n",
    "plt.ylabel('True Positive Rate')\n",
    "plt.xlabel('False Positive Rate')\n",
    "plt.title('ROC Curve of decision tree')\n",
    "plt.show()"
   ]
  },
  {
   "cell_type": "markdown",
   "id": "bb63ff22",
   "metadata": {},
   "source": [
    "## classifier 5 : SVM"
   ]
  },
  {
   "cell_type": "markdown",
   "id": "8068c7e7",
   "metadata": {},
   "source": [
    "first we will see the optimal value for the hyperparameter C to balance the tradeoff between margin and violation :"
   ]
  },
  {
   "cell_type": "code",
   "execution_count": 15,
   "id": "aa909444",
   "metadata": {},
   "outputs": [],
   "source": [
    "from sklearn.pipeline import Pipeline\n",
    "from sklearn.preprocessing import StandardScaler\n",
    "from sklearn.svm import LinearSVC"
   ]
  },
  {
   "cell_type": "code",
   "execution_count": 49,
   "id": "08c0e52a",
   "metadata": {},
   "outputs": [
    {
     "name": "stderr",
     "output_type": "stream",
     "text": [
      "C:\\Users\\Ali Ahmed\\anaconda3\\lib\\site-packages\\sklearn\\svm\\_base.py:985: ConvergenceWarning: Liblinear failed to converge, increase the number of iterations.\n",
      "  warnings.warn(\"Liblinear failed to converge, increase \"\n",
      "C:\\Users\\Ali Ahmed\\anaconda3\\lib\\site-packages\\sklearn\\svm\\_base.py:985: ConvergenceWarning: Liblinear failed to converge, increase the number of iterations.\n",
      "  warnings.warn(\"Liblinear failed to converge, increase \"\n",
      "C:\\Users\\Ali Ahmed\\anaconda3\\lib\\site-packages\\sklearn\\svm\\_base.py:985: ConvergenceWarning: Liblinear failed to converge, increase the number of iterations.\n",
      "  warnings.warn(\"Liblinear failed to converge, increase \"\n",
      "C:\\Users\\Ali Ahmed\\anaconda3\\lib\\site-packages\\sklearn\\svm\\_base.py:985: ConvergenceWarning: Liblinear failed to converge, increase the number of iterations.\n",
      "  warnings.warn(\"Liblinear failed to converge, increase \"\n",
      "C:\\Users\\Ali Ahmed\\anaconda3\\lib\\site-packages\\sklearn\\svm\\_base.py:985: ConvergenceWarning: Liblinear failed to converge, increase the number of iterations.\n",
      "  warnings.warn(\"Liblinear failed to converge, increase \"\n",
      "C:\\Users\\Ali Ahmed\\anaconda3\\lib\\site-packages\\sklearn\\svm\\_base.py:985: ConvergenceWarning: Liblinear failed to converge, increase the number of iterations.\n",
      "  warnings.warn(\"Liblinear failed to converge, increase \"\n",
      "C:\\Users\\Ali Ahmed\\anaconda3\\lib\\site-packages\\sklearn\\svm\\_base.py:985: ConvergenceWarning: Liblinear failed to converge, increase the number of iterations.\n",
      "  warnings.warn(\"Liblinear failed to converge, increase \"\n",
      "C:\\Users\\Ali Ahmed\\anaconda3\\lib\\site-packages\\sklearn\\svm\\_base.py:985: ConvergenceWarning: Liblinear failed to converge, increase the number of iterations.\n",
      "  warnings.warn(\"Liblinear failed to converge, increase \"\n"
     ]
    },
    {
     "name": "stdout",
     "output_type": "stream",
     "text": [
      "reslults for C= 1\n",
      "              precision    recall  f1-score   support\n",
      "\n",
      "           0       0.94      0.99      0.96       152\n",
      "           1       0.85      0.55      0.67        20\n",
      "\n",
      "    accuracy                           0.94       172\n",
      "   macro avg       0.89      0.77      0.82       172\n",
      "weighted avg       0.93      0.94      0.93       172\n",
      "\n",
      "[[150   2]\n",
      " [  9  11]]\n",
      "AUC score is  0.7684210526315789\n",
      "***************************************************************\n",
      "reslults for C= 6\n",
      "              precision    recall  f1-score   support\n",
      "\n",
      "           0       0.94      0.99      0.96       152\n",
      "           1       0.91      0.50      0.65        20\n",
      "\n",
      "    accuracy                           0.94       172\n",
      "   macro avg       0.92      0.75      0.81       172\n",
      "weighted avg       0.93      0.94      0.93       172\n",
      "\n",
      "[[151   1]\n",
      " [ 10  10]]\n",
      "AUC score is  0.7467105263157896\n",
      "***************************************************************\n",
      "reslults for C= 11\n",
      "              precision    recall  f1-score   support\n",
      "\n",
      "           0       0.94      0.99      0.96       152\n",
      "           1       0.91      0.50      0.65        20\n",
      "\n",
      "    accuracy                           0.94       172\n",
      "   macro avg       0.92      0.75      0.81       172\n",
      "weighted avg       0.93      0.94      0.93       172\n",
      "\n",
      "[[151   1]\n",
      " [ 10  10]]\n",
      "AUC score is  0.7467105263157896\n",
      "***************************************************************\n",
      "reslults for C= 16\n",
      "              precision    recall  f1-score   support\n",
      "\n",
      "           0       0.94      0.99      0.96       152\n",
      "           1       0.91      0.50      0.65        20\n",
      "\n",
      "    accuracy                           0.94       172\n",
      "   macro avg       0.92      0.75      0.81       172\n",
      "weighted avg       0.93      0.94      0.93       172\n",
      "\n",
      "[[151   1]\n",
      " [ 10  10]]\n",
      "AUC score is  0.7467105263157896\n",
      "***************************************************************\n",
      "reslults for C= 21\n",
      "              precision    recall  f1-score   support\n",
      "\n",
      "           0       0.93      0.99      0.96       152\n",
      "           1       0.90      0.45      0.60        20\n",
      "\n",
      "    accuracy                           0.93       172\n",
      "   macro avg       0.92      0.72      0.78       172\n",
      "weighted avg       0.93      0.93      0.92       172\n",
      "\n",
      "[[151   1]\n",
      " [ 11   9]]\n",
      "AUC score is  0.7217105263157895\n",
      "***************************************************************\n",
      "reslults for C= 26\n",
      "              precision    recall  f1-score   support\n",
      "\n",
      "           0       0.93      1.00      0.97       152\n",
      "           1       1.00      0.45      0.62        20\n",
      "\n",
      "    accuracy                           0.94       172\n",
      "   macro avg       0.97      0.72      0.79       172\n",
      "weighted avg       0.94      0.94      0.93       172\n",
      "\n",
      "[[152   0]\n",
      " [ 11   9]]\n",
      "AUC score is  0.725\n",
      "***************************************************************\n",
      "reslults for C= 31\n",
      "              precision    recall  f1-score   support\n",
      "\n",
      "           0       0.94      0.99      0.97       152\n",
      "           1       0.92      0.55      0.69        20\n",
      "\n",
      "    accuracy                           0.94       172\n",
      "   macro avg       0.93      0.77      0.83       172\n",
      "weighted avg       0.94      0.94      0.94       172\n",
      "\n",
      "[[151   1]\n",
      " [  9  11]]\n",
      "AUC score is  0.7717105263157895\n",
      "***************************************************************\n",
      "reslults for C= 36\n",
      "              precision    recall  f1-score   support\n",
      "\n",
      "           0       0.93      1.00      0.97       152\n",
      "           1       1.00      0.45      0.62        20\n",
      "\n",
      "    accuracy                           0.94       172\n",
      "   macro avg       0.97      0.72      0.79       172\n",
      "weighted avg       0.94      0.94      0.93       172\n",
      "\n",
      "[[152   0]\n",
      " [ 11   9]]\n",
      "AUC score is  0.725\n",
      "***************************************************************\n",
      "reslults for C= 41\n",
      "              precision    recall  f1-score   support\n",
      "\n",
      "           0       0.95      0.99      0.97       152\n",
      "           1       0.92      0.60      0.73        20\n",
      "\n",
      "    accuracy                           0.95       172\n",
      "   macro avg       0.94      0.80      0.85       172\n",
      "weighted avg       0.95      0.95      0.94       172\n",
      "\n",
      "[[151   1]\n",
      " [  8  12]]\n",
      "AUC score is  0.7967105263157895\n",
      "***************************************************************\n",
      "reslults for C= 46\n",
      "              precision    recall  f1-score   support\n",
      "\n",
      "           0       0.94      0.99      0.97       152\n",
      "           1       0.92      0.55      0.69        20\n",
      "\n",
      "    accuracy                           0.94       172\n",
      "   macro avg       0.93      0.77      0.83       172\n",
      "weighted avg       0.94      0.94      0.94       172\n",
      "\n",
      "[[151   1]\n",
      " [  9  11]]\n",
      "AUC score is  0.7717105263157895\n",
      "***************************************************************\n",
      "reslults for C= 51\n",
      "              precision    recall  f1-score   support\n",
      "\n",
      "           0       0.94      0.99      0.97       152\n",
      "           1       0.92      0.55      0.69        20\n",
      "\n",
      "    accuracy                           0.94       172\n",
      "   macro avg       0.93      0.77      0.83       172\n",
      "weighted avg       0.94      0.94      0.94       172\n",
      "\n",
      "[[151   1]\n",
      " [  9  11]]\n",
      "AUC score is  0.7717105263157895\n",
      "***************************************************************\n",
      "reslults for C= 56\n",
      "              precision    recall  f1-score   support\n",
      "\n",
      "           0       0.96      0.99      0.97       152\n",
      "           1       0.88      0.70      0.78        20\n",
      "\n",
      "    accuracy                           0.95       172\n",
      "   macro avg       0.92      0.84      0.88       172\n",
      "weighted avg       0.95      0.95      0.95       172\n",
      "\n",
      "[[150   2]\n",
      " [  6  14]]\n",
      "AUC score is  0.843421052631579\n",
      "***************************************************************\n",
      "reslults for C= 61\n",
      "              precision    recall  f1-score   support\n",
      "\n",
      "           0       0.93      0.99      0.96       152\n",
      "           1       0.90      0.45      0.60        20\n",
      "\n",
      "    accuracy                           0.93       172\n",
      "   macro avg       0.92      0.72      0.78       172\n",
      "weighted avg       0.93      0.93      0.92       172\n",
      "\n",
      "[[151   1]\n",
      " [ 11   9]]\n",
      "AUC score is  0.7217105263157895\n",
      "***************************************************************\n",
      "reslults for C= 66\n",
      "              precision    recall  f1-score   support\n",
      "\n",
      "           0       0.94      0.97      0.95       152\n",
      "           1       0.71      0.50      0.59        20\n",
      "\n",
      "    accuracy                           0.92       172\n",
      "   macro avg       0.83      0.74      0.77       172\n",
      "weighted avg       0.91      0.92      0.91       172\n",
      "\n",
      "[[148   4]\n",
      " [ 10  10]]\n",
      "AUC score is  0.7368421052631579\n",
      "***************************************************************\n"
     ]
    },
    {
     "name": "stderr",
     "output_type": "stream",
     "text": [
      "C:\\Users\\Ali Ahmed\\anaconda3\\lib\\site-packages\\sklearn\\svm\\_base.py:985: ConvergenceWarning: Liblinear failed to converge, increase the number of iterations.\n",
      "  warnings.warn(\"Liblinear failed to converge, increase \"\n",
      "C:\\Users\\Ali Ahmed\\anaconda3\\lib\\site-packages\\sklearn\\svm\\_base.py:985: ConvergenceWarning: Liblinear failed to converge, increase the number of iterations.\n",
      "  warnings.warn(\"Liblinear failed to converge, increase \"\n",
      "C:\\Users\\Ali Ahmed\\anaconda3\\lib\\site-packages\\sklearn\\svm\\_base.py:985: ConvergenceWarning: Liblinear failed to converge, increase the number of iterations.\n",
      "  warnings.warn(\"Liblinear failed to converge, increase \"\n",
      "C:\\Users\\Ali Ahmed\\anaconda3\\lib\\site-packages\\sklearn\\svm\\_base.py:985: ConvergenceWarning: Liblinear failed to converge, increase the number of iterations.\n",
      "  warnings.warn(\"Liblinear failed to converge, increase \"\n",
      "C:\\Users\\Ali Ahmed\\anaconda3\\lib\\site-packages\\sklearn\\svm\\_base.py:985: ConvergenceWarning: Liblinear failed to converge, increase the number of iterations.\n",
      "  warnings.warn(\"Liblinear failed to converge, increase \"\n",
      "C:\\Users\\Ali Ahmed\\anaconda3\\lib\\site-packages\\sklearn\\svm\\_base.py:985: ConvergenceWarning: Liblinear failed to converge, increase the number of iterations.\n",
      "  warnings.warn(\"Liblinear failed to converge, increase \"\n"
     ]
    }
   ],
   "source": [
    "for i in range(1,70,5):\n",
    "    svc_model=LinearSVC(C=i,loss=\"hinge\",random_state=30)\n",
    "    svc_model.fit(xTrain,yTrain)\n",
    "    YPRED=svc_model.predict(xVal)\n",
    "    print (\"reslults for C=\",i)\n",
    "    print (classification_report(yVal,YPRED))\n",
    "    print (confusion_matrix (yVal,YPRED))\n",
    "    fpr, tpr, threshold = roc_curve(yVal,YPRED)\n",
    "    roc_auc_svc = auc(fpr, tpr)\n",
    "    print(\"AUC score is \",roc_auc_svc)\n",
    "    print (\"***************************************************************\")"
   ]
  },
  {
   "cell_type": "code",
   "execution_count": 53,
   "id": "ee112760",
   "metadata": {},
   "outputs": [
    {
     "name": "stdout",
     "output_type": "stream",
     "text": [
      "              precision    recall  f1-score   support\n",
      "\n",
      "           0       0.96      0.97      0.97        77\n",
      "           1       0.83      0.77      0.80        13\n",
      "\n",
      "    accuracy                           0.94        90\n",
      "   macro avg       0.90      0.87      0.88        90\n",
      "weighted avg       0.94      0.94      0.94        90\n",
      "\n",
      "[[75  2]\n",
      " [ 3 10]]\n",
      "AUC score is  0.8716283716283716\n"
     ]
    },
    {
     "name": "stderr",
     "output_type": "stream",
     "text": [
      "C:\\Users\\Ali Ahmed\\anaconda3\\lib\\site-packages\\sklearn\\svm\\_base.py:985: ConvergenceWarning: Liblinear failed to converge, increase the number of iterations.\n",
      "  warnings.warn(\"Liblinear failed to converge, increase \"\n"
     ]
    }
   ],
   "source": [
    "#the best results is at C=56 with AUC=0.84 so now we test the final model on test set \n",
    "svc_final_model=LinearSVC(C=56,loss=\"hinge\",random_state=30)\n",
    "svc_final_model.fit(xTrain,yTrain)\n",
    "ypredict=svc_final_model.predict(xTest)\n",
    "print (classification_report(yTest,ypredict))\n",
    "print (confusion_matrix (yTest,ypredict))\n",
    "fpr, tpr, threshold = roc_curve(yTest,ypredict)\n",
    "roc_auc_SVC = auc(fpr, tpr)\n",
    "print(\"AUC score is \",roc_auc_SVC)"
   ]
  },
  {
   "cell_type": "code",
   "execution_count": 54,
   "id": "91b6a87c",
   "metadata": {},
   "outputs": [
    {
     "data": {
      "image/png": "[encoded data removed]",
      "text/plain": [
       "<Figure size 432x288 with 1 Axes>"
      ]
     },
     "metadata": {
      "needs_background": "light"
     },
     "output_type": "display_data"
    }
   ],
   "source": [
    "plt.title('Receiver Operating Characteristic')\n",
    "plt.plot(fpr, tpr, 'b', label = 'AUC = %0.2f' % roc_auc_SVC)\n",
    "plt.legend(loc = 'lower right')\n",
    "plt.plot([0, 1], [0, 1],'r--')\n",
    "plt.xlim([0, 1])\n",
    "plt.ylim([0, 1])\n",
    "plt.ylabel('True Positive Rate')\n",
    "plt.xlabel('False Positive Rate')\n",
    "plt.title('ROC Curve of SVC')\n",
    "plt.show()"
   ]
  },
  {
   "cell_type": "markdown",
   "id": "62bb124a",
   "metadata": {},
   "source": [
    "# Project results :\n",
    "KNN AUC=0.79 , Logestic AUC=0.83, Naive Bayes AUC=0.8, Decision tree AUC=0.94, SVC AUC=0.87 \n",
    "So the decision tree is the best classifier in this problem with just 3 false positive samples and one false negative samples\n",
    "note that results can change with every run because the random shuffle in data but not big change"
   ]
  },
  {
   "cell_type": "code",
   "execution_count": 80,
   "id": "c667cdba",
   "metadata": {},
   "outputs": [
    {
     "name": "stdout",
     "output_type": "stream",
     "text": [
      "the predicted accuracy is  0.9555555555555556\n",
      "[[74  3]\n",
      " [ 1 12]]\n",
      "              precision    recall  f1-score   support\n",
      "\n",
      "           0       0.99      0.96      0.97        77\n",
      "           1       0.80      0.92      0.86        13\n",
      "\n",
      "    accuracy                           0.96        90\n",
      "   macro avg       0.89      0.94      0.92        90\n",
      "weighted avg       0.96      0.96      0.96        90\n",
      "\n",
      "0.942057942057942\n"
     ]
    }
   ],
   "source": [
    "#we can see the results of decision tree again :\n",
    "print(\"the predicted accuracy is \", accuracy_score(yTest,y_predict))\n",
    "print (confusion_matrix (yTest,y_predict))\n",
    "print (classification_report(yTest,y_predict))\n",
    "fpr, tpr, threshold = roc_curve(yTest,y_predict)\n",
    "roc_auc_tree = auc(fpr, tpr)\n",
    "print(roc_auc_tree)"
   ]
  },
  {
   "cell_type": "code",
   "execution_count": 81,
   "id": "0e071582",
   "metadata": {},
   "outputs": [
    {
     "data": {
      "image/png": "[encoded data removed]",
      "text/plain": [
       "<Figure size 432x288 with 1 Axes>"
      ]
     },
     "metadata": {
      "needs_background": "light"
     },
     "output_type": "display_data"
    }
   ],
   "source": [
    "plt.title('Receiver Operating Characteristic')\n",
    "plt.plot(fpr, tpr, 'b', label = 'AUC = %0.2f' % roc_auc_tree)\n",
    "plt.legend(loc = 'lower right')\n",
    "plt.plot([0, 1], [0, 1],'r--')\n",
    "plt.xlim([0, 1])\n",
    "plt.ylim([0, 1])\n",
    "plt.ylabel('True Positive Rate')\n",
    "plt.xlabel('False Positive Rate')\n",
    "plt.title('ROC Curve of decision tree')\n",
    "plt.show()"
   ]
  }
 ],
 "metadata": {
  "kernelspec": {
   "display_name": "Python 3",
   "language": "python",
   "name": "python3"
  },
  "language_info": {
   "codemirror_mode": {
    "name": "ipython",
    "version": 3
   },
   "file_extension": ".py",
   "mimetype": "text/x-python",
   "name": "python",
   "nbconvert_exporter": "python",
   "pygments_lexer": "ipython3",
   "version": "3.8.8"
  }
 },
 "nbformat": 4,
 "nbformat_minor": 5
}
